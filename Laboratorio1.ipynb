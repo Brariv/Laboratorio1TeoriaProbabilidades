{
 "cells": [
  {
   "cell_type": "markdown",
   "metadata": {},
   "source": [
    "Laboratorio 1\n",
    "\n",
    "MM3014 Teoría de Probabilidades\n",
    "\n",
    "Pedro Avila - 23089\n",
    "\n",
    "Brandon Rivera - 23088\n",
    "\n",
    "INSTRUCCIONES: Escriba un programa en Python con la solución de los siguientes\n",
    "ejercicios. En cada caso deberá generar el listado de elementos que cumplan las\n",
    "condiciones indicadas."
   ]
  },
  {
   "cell_type": "markdown",
   "metadata": {},
   "source": [
    "1. Una empresa tiene un grupo de 8 empleados Ana, Bruno, Carlos, Dina, Eli, Frank, Gaby y Hugo, de los cuales necesita formar equipos de 3 personas para un proyecto.\n",
    "\n",
    "a. ¿Cuántos equipos diferentes de 3 personas pueden formarse? ¿En cuántos de éstos está Ana?\n",
    "\n",
    "b. ¿Cuántos equipos diferentes de 4 personas pueden formarse? ¿En cuántos de éstos no está Frank?"
   ]
  },
  {
   "cell_type": "code",
   "execution_count": null,
   "metadata": {},
   "outputs": [],
   "source": []
  },
  {
   "cell_type": "markdown",
   "metadata": {},
   "source": [
    "2. a. ¿Cuántas palabras diferentes se pueden formar usando todas las letras de la palabra SEERESS?\n",
    "\n",
    "b. ¿Cuántas de estas palabras comienzan con S y terminan con R?\n",
    "\n",
    "c. ¿Cuántas palabras diferentes se pueden formar usando cinco o más letras de la palabra SEERESS?"
   ]
  },
  {
   "cell_type": "code",
   "execution_count": null,
   "metadata": {},
   "outputs": [],
   "source": []
  },
  {
   "cell_type": "markdown",
   "metadata": {},
   "source": [
    "3. Cuántos números entre 1 y 1,000,000 son primos?"
   ]
  },
  {
   "cell_type": "code",
   "execution_count": null,
   "metadata": {},
   "outputs": [],
   "source": []
  },
  {
   "cell_type": "markdown",
   "metadata": {},
   "source": [
    "4. a. ¿Cuántos números decimales de 4 dígitos se pueden formar usando los dígitos del 0 al 9?\n",
    "\n",
    "b. ¿Cuántos tienen uno o más dígitos repetidos? Ej.: 2324, 5255, 6767, etc.\n",
    "\n",
    "c. ¿Cuántos tienen los 4 dígitos repetidos? Ej.: 3333.\n",
    "\n",
    "d. ¿Cuántos tienen dos dígitos (diferentes) repetidos dos veces cada uno? Ej.: 2424.\n",
    "\n",
    "e. ¿Cuántos de estos repiten un dígito dos veces y los otros no se repiten? Ej.: 3137.\n",
    "\n",
    "f. ¿Cuántos de estos repiten un dígito tres veces y el otro no se repite? Ej.: 9199."
   ]
  },
  {
   "cell_type": "code",
   "execution_count": null,
   "metadata": {},
   "outputs": [],
   "source": []
  }
 ],
 "metadata": {
  "language_info": {
   "name": "python"
  }
 },
 "nbformat": 4,
 "nbformat_minor": 2
}
