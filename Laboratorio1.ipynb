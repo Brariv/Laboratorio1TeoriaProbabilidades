{
 "cells": [
  {
   "cell_type": "markdown",
   "metadata": {},
   "source": [
    "Laboratorio 1\n",
    "\n",
    "MM3014 Teoría de Probabilidades\n",
    "\n",
    "Pedro Avila - 23089\n",
    "\n",
    "Brandon Rivera - 23088\n",
    "\n",
    "INSTRUCCIONES: Escriba un programa en Python con la solución de los siguientes\n",
    "ejercicios. En cada caso deberá generar el listado de elementos que cumplan las\n",
    "condiciones indicadas."
   ]
  },
  {
   "cell_type": "markdown",
   "metadata": {},
   "source": [
    "1. Una empresa tiene un grupo de 8 empleados Ana, Bruno, Carlos, Dina, Eli, Frank, Gaby y Hugo, de los cuales necesita formar equipos de 3 personas para un proyecto.\n",
    "\n",
    "a. ¿Cuántos equipos diferentes de 3 personas pueden formarse? ¿En cuántos de éstos está Ana?\n",
    "\n",
    "b. ¿Cuántos equipos diferentes de 4 personas pueden formarse? ¿En cuántos de éstos no está Frank?"
   ]
  },
  {
   "cell_type": "code",
   "execution_count": 7,
   "metadata": {},
   "outputs": [
    {
     "name": "stdout",
     "output_type": "stream",
     "text": [
      "a.1)\n",
      " El número de equipos de 3 personas que se puede formar es de:  56\n",
      "a.2)\n",
      " El número de equipos de 3 personas que se puede formar con Ana es de:  21\n",
      "b.1)\n",
      " El número de equipos de 4 personas que se puede formar es de:  70\n",
      "b.2)\n",
      " El número de equipos de 4 personas que se puede formar con Frank es de:  35\n"
     ]
    }
   ],
   "source": [
    "import itertools as it\n",
    "\n",
    "A = {\"Ana\", \"Bruno\", \"Carlos\", \"Dina\", \"Eli\", \"Frank\", \"Gaby\", \"Hugo\"}\n",
    "S1 = set(it.combinations(A, 3))\n",
    "\n",
    "print(\"a.1)\")\n",
    "ansa = len(S1)\n",
    "print(f\" El número de equipos de 3 personas que se puede formar es de: \", ansa)\n",
    "\n",
    "print(\"a.2)\")\n",
    "E1 = set([k for k in S1 if \"Ana\" in k])\n",
    "ansa1 = len(E1)\n",
    "print(f\" El número de equipos de 3 personas que se puede formar con Ana es de: \", ansa1)\n",
    "\n",
    "\n",
    "S2 = set(it.combinations(A, 4))\n",
    "\n",
    "print(\"b.1)\")\n",
    "ansb = len(S2)\n",
    "print(f\" El número de equipos de 4 personas que se puede formar es de: \", ansb)\n",
    "\n",
    "print(\"b.2)\")\n",
    "E2 = set([k for k in S2 if \"Frank\" in k])\n",
    "ansb1 = len(E2)\n",
    "print(f\" El número de equipos de 4 personas que se puede formar con Frank es de: \", ansb1)"
   ]
  },
  {
   "cell_type": "markdown",
   "metadata": {},
   "source": [
    "2. a. ¿Cuántas palabras diferentes se pueden formar usando todas las letras de la palabra SEERESS?\n",
    "\n",
    "b. ¿Cuántas de estas palabras comienzan con S y terminan con R?\n",
    "\n",
    "c. ¿Cuántas palabras diferentes se pueden formar usando cinco o más letras de la palabra SEERESS?"
   ]
  },
  {
   "cell_type": "code",
   "execution_count": 57,
   "metadata": {},
   "outputs": [
    {
     "name": "stdout",
     "output_type": "stream",
     "text": [
      "a)\n",
      " El número de palabras diferentes que se pueden formar es de:  140\n",
      "b)\n",
      " El número de palabras que comienzan con S y terminan con R es de:  10\n",
      "c)\n",
      " El número de palabras que tienen 5 o mas letras es de:  370\n"
     ]
    }
   ],
   "source": [
    "S = set(it.permutations(\"SEERESS\",7))\n",
    "print(\"a)\")\n",
    "ansa = len(S)\n",
    "print(f\" El número de palabras diferentes que se pueden formar es de: \", ansa)\n",
    "\n",
    "print(\"b)\")\n",
    "E1 = set([k for k in S if k[0] == \"S\" and k[-1] == \"R\"])\n",
    "ansa1 = len(E1)\n",
    "print(f\" El número de palabras que comienzan con S y terminan con R es de: \", ansa1)\n",
    "\n",
    "print(\"c)\")\n",
    "l5 = set(it.permutations(\"SEERESS\",5))\n",
    "l6 = set(it.permutations(\"SEERESS\",6))\n",
    "total = len(l5) + len(l6) + ansa\n",
    "print(f\" El número de palabras que tienen 5 o mas letras es de: \", total)"
   ]
  },
  {
   "cell_type": "markdown",
   "metadata": {},
   "source": [
    "3. Cuántos números entre 1 y 1,000,000 son primos?"
   ]
  },
  {
   "cell_type": "code",
   "execution_count": 62,
   "metadata": {},
   "outputs": [
    {
     "name": "stdout",
     "output_type": "stream",
     "text": [
      "La cantidad de primos que entre 1 y 1,000,000 hay es de: 78498\n"
     ]
    }
   ],
   "source": [
    "def esPrimito(n):\n",
    "    if n < 2:\n",
    "        return False\n",
    "    for i in range(2, int(n ** 0.5)+1): #La prueba hasta sqrt(n)\n",
    "        if n % i == 0:\n",
    "            return False\n",
    "    return True\n",
    "\n",
    "\n",
    "primeSum = sum([1 for i in range(1, 1000000) if esPrimito(i)])\n",
    "\n",
    "print(f\"La cantidad de primos que entre 1 y 1,000,000 hay es de: {primeSum}\")\n"
   ]
  },
  {
   "cell_type": "markdown",
   "metadata": {},
   "source": [
    "4. \n",
    "a. ¿Cuántos números decimales de 4 dígitos se pueden formar usando los dígitos del 0 al 9?\n",
    "\n",
    "b. ¿Cuántos tienen uno o más dígitos repetidos? Ej.: 2324, 5255, 6767, etc.\n",
    "\n",
    "c. ¿Cuántos tienen los 4 dígitos repetidos? Ej.: 3333.\n",
    "\n",
    "d. ¿Cuántos tienen dos dígitos (diferentes) repetidos dos veces cada uno? Ej.: 2424.\n",
    "\n",
    "e. ¿Cuántos de estos repiten un dígito dos veces y los otros no se repiten? Ej.: 3137.\n",
    "\n",
    "f. ¿Cuántos de estos repiten un dígito tres veces y el otro no se repite? Ej.: 9199."
   ]
  },
  {
   "cell_type": "code",
   "execution_count": 61,
   "metadata": {},
   "outputs": [
    {
     "name": "stdout",
     "output_type": "stream",
     "text": [
      "a)\n",
      "La cantidad de decimales de 4 digitos que se pueden usar con digitos del 0 al 9 son: 9000\n",
      "b)\n",
      "La cantidad de digitos con uno o mas repetidos: 4724\n",
      "c)\n",
      "La cantidad de digitos donde todos son repetidos don: 8\n",
      "d)\n",
      "La cantidad con dos dígitos diferentes repetidos son: 0\n",
      "e)\n",
      "La cantidad de digitos que repiten dos digitos y los otros no se repiten son:  3888\n",
      "f)\n",
      "La cantidad de digitos que repiten tres digitos y el otro no se repite son: 324\n"
     ]
    }
   ],
   "source": [
    "import itertools as it\n",
    "from collections import Counter\n",
    "\n",
    "print(\"a)\")\n",
    "ansa = sum([1 for i in list(it.product(\"0123456789\",repeat=4))]) - 1000 \n",
    "print(f\"La cantidad de decimales de 4 digitos que se pueden usar con digitos del 0 al 9 son: {ansa}\")\n",
    "\n",
    "\n",
    "print(\"b)\")\n",
    "ansb = sum([1 for i in range(9999) if any(count in [2, 3, 4] for count in Counter(str(i)).values())]) \n",
    "print(f\"La cantidad de digitos con uno o mas repetidos: {ansb}\")\n",
    "\n",
    "print(\"c)\")\n",
    "ansc = sum([1 for i in range(9999) if 4 in  Counter(str(i)).values()]) \n",
    "print(f\"La cantidad de digitos donde todos son repetidos don: {ansc}\")\n",
    "\n",
    "print(\"d)\")\n",
    "ansd = sum([1 for i in range(10000) if Counter(str(i)).values() == [2, 2]])\n",
    "print(f\"La cantidad con dos dígitos diferentes repetidos son: {ansd}\")\n",
    "\n",
    "print(\"e)\")\n",
    "anse = sum([1 for i in range(10000) if sorted(Counter(str(i)).values()) == [1, 1, 2]])\n",
    "print(f\"La cantidad de digitos que repiten dos digitos y los otros no se repiten son:  {anse}\")\n",
    "\n",
    "print(\"f)\")\n",
    "ansf = sum([1 for i in range(10000) if sorted(Counter(str(i)).values()) == [1, 3]])\n",
    "print(f\"La cantidad de digitos que repiten tres digitos y el otro no se repite son: {ansf}\")\n",
    "\n",
    "\n",
    "\n"
   ]
  }
 ],
 "metadata": {
  "kernelspec": {
   "display_name": "Entorno",
   "language": "python",
   "name": "python3"
  },
  "language_info": {
   "codemirror_mode": {
    "name": "ipython",
    "version": 3
   },
   "file_extension": ".py",
   "mimetype": "text/x-python",
   "name": "python",
   "nbconvert_exporter": "python",
   "pygments_lexer": "ipython3",
   "version": "3.13.1"
  }
 },
 "nbformat": 4,
 "nbformat_minor": 2
}
