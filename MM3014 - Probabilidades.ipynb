{
 "cells": [
  {
   "cell_type": "markdown",
   "id": "99008aca",
   "metadata": {},
   "source": [
    "# Probabilidades\n",
    "\n",
    "**Instrucciones**: Escriba un programa en Python con la solución de los siguientes ejercicios. **Deberá generar el listado de elementos que cumplan la o las condiciones indicadas.**"
   ]
  },
  {
   "cell_type": "markdown",
   "id": "0c759243",
   "metadata": {},
   "source": [
    "## Ejercicio 1.\n",
    "\n",
    "Dos números distintos del 1 al 10 se seleccionan al azar.\n",
    "\n",
    "¿Cuál es la probabilidad de que su producto sea menor o igual que 50?"
   ]
  },
  {
   "cell_type": "code",
   "execution_count": 13,
   "id": "07e7b79e",
   "metadata": {},
   "outputs": [
    {
     "name": "stdout",
     "output_type": "stream",
     "text": [
      " la probabilidad de que su producto sea menor o igual que 50 es de: 82.22222222222221%\n"
     ]
    }
   ],
   "source": [
    "import itertools as it\n",
    "\n",
    "A = {1,2,3,4,5,6,7,8,9,10}\n",
    "S = set(it.permutations(A,2))\n",
    "\n",
    "E1 = set([k for k in S if k[0]*k[1] <= 50])\n",
    "ans = len(E1)/len(S) * 100\n",
    "print(f\" la probabilidad de que su producto sea menor o igual que 50 es de: {ans}%\")\n"
   ]
  },
  {
   "cell_type": "markdown",
   "id": "cbede247",
   "metadata": {},
   "source": [
    "## Ejercicio 2.\n",
    "\n",
    "Si se lanza un dado 4 veces, ¿cuál es la probabilidad de que salga 6 al menos una vez?"
   ]
  },
  {
   "cell_type": "code",
   "execution_count": null,
   "id": "2f64130e",
   "metadata": {},
   "outputs": [],
   "source": []
  },
  {
   "cell_type": "markdown",
   "id": "a8ed63d0",
   "metadata": {},
   "source": [
    "## Ejercicio 3. \n",
    "\n",
    "Se eligen dos cartas al azar de una baraja de 52 naipes.\n",
    "\n",
    "a) ¿Cuántos posibles resultados hay?\n",
    "\n",
    "b) ¿Cuál es la probabilidad de que ambas cartas sean A's?\n",
    "\n",
    "c) ¿Cuál es la probabilidad de que ambas cartas tengan el mismo valor?"
   ]
  },
  {
   "cell_type": "code",
   "execution_count": 14,
   "id": "74445902",
   "metadata": {},
   "outputs": [
    {
     "name": "stdout",
     "output_type": "stream",
     "text": [
      "a)\n",
      "Existen: 1326 posibles resultados\n",
      "b)\n",
      "La probabilidad de que ambas cartas sean A's es de: 0.4524886877828055%\n",
      "c)\n",
      "La probabilidad de que ambas cartas tengan el misnmo valor es de: 5.88235294117647%\n"
     ]
    }
   ],
   "source": [
    "import itertools as it\n",
    "\n",
    "A = [\"Corazones\", \"Trebol\", \"Picas\", \"Diamantes\"]\n",
    "B = [\"A\", \"2\", \"3\", \"4\", \"5\", \"6\", \"7\", \"8\", \"9\", \"10\", \"J\", \"Q\", \"K\"]\n",
    "C = []\n",
    "for i in range(len(A)): \n",
    "    for j in range(len(B)):\n",
    "        combo = A[i]+ \" \" + B[j]\n",
    "        C.append(combo)\n",
    "\n",
    "S = set(it.combinations(C,2))\n",
    "\n",
    "print(\"a)\")\n",
    "ansa = len(S)\n",
    "print(f\"Existen: {ansa} posibles resultados\")\n",
    "\n",
    "print(\"b)\")\n",
    "E1 = set([k for k in S if (k[0][-1] == \"A\" and k[1][-1] == \"A\")])\n",
    "ansb = (len(E1)/len(S)) * 100\n",
    "print(f\"La probabilidad de que ambas cartas sean A's es de: {ansb}%\")\n",
    "\n",
    "print(\"c)\")\n",
    "E2 = set([k for k in S if (k[0][-1] == k[1][-1])])\n",
    "ansc = (len(E2)/len(S)) * 100\n",
    "print(f\"La probabilidad de que ambas cartas tengan el misnmo valor es de: {ansc}%\")"
   ]
  },
  {
   "cell_type": "markdown",
   "id": "c1a1df1b",
   "metadata": {},
   "source": [
    "## Ejercicio 4.\n",
    "\n",
    "Una urna contiene 5 pelotas rojas, 6 azules y 8 verdes. Si se selecciona al azar un conjunto de 3 pelotas, ¿cuál es la probabilidad de que cada una de las pelotas sea:\n",
    "\n",
    "a) del mismo color?\n",
    "\n",
    "b) de colores diferentes? "
   ]
  },
  {
   "cell_type": "code",
   "execution_count": null,
   "id": "0c04be52",
   "metadata": {},
   "outputs": [],
   "source": []
  },
  {
   "cell_type": "markdown",
   "id": "a1f286c8",
   "metadata": {},
   "source": [
    "## Ejercicio 5.\n",
    "\n",
    "Repita el ejercicio anterior suponiendo que ahora cada vez que se selecciona una pelota, se anota su color y se vuelve a introducir en la urna antes de la siguiente selección; esto se conoce como _muestreo con reemplazo._"
   ]
  },
  {
   "cell_type": "code",
   "execution_count": 24,
   "id": "ef6885cb",
   "metadata": {},
   "outputs": [
    {
     "name": "stdout",
     "output_type": "stream",
     "text": [
      "a)\n",
      "La probabilidad de que todas las pelotas sean del mismo color es de: 12.43621519171891%\n",
      "b)\n",
      "La probabilidad de que todas las pelotas sean de color diferente es de: 20.994314039947515%\n"
     ]
    }
   ],
   "source": [
    "pelotas_rojas = [f\"Rojas-{i}\"for i in range(5)]\n",
    "pelotas_azules = [f\"Azules-{i}\" for i in range(6)]\n",
    "pelotas_verdes = [f\"Verdes-{i}\" for i in range(8)]\n",
    "\n",
    "S = set(it.product((pelotas_rojas + pelotas_azules + pelotas_verdes), repeat=3))\n",
    "\n",
    "print(\"a)\")\n",
    "E1 = set([k for k in S if k[0][0]==k[1][0]==k[2][0]])\n",
    "ansa = (len(E1)/len(S)) * 100\n",
    "print(f\"La probabilidad de que todas las pelotas sean del mismo color es de: {ansa}%\")\n",
    "\n",
    "print(\"b)\")\n",
    "E2 = set([k for k in S if k[0][0]!=k[1][0] and k[0][0]!=k[2][0] and k[2][0]!=k[1][0]])\n",
    "ansb = (len(E2)/len(S)) * 100\n",
    "print(f\"La probabilidad de que todas las pelotas sean de color diferente es de: {ansb}%\")\n",
    "\n"
   ]
  },
  {
   "cell_type": "markdown",
   "id": "47bd344a",
   "metadata": {},
   "source": [
    "## Ejercicio 6.\n",
    "\n",
    "Un profesor da a su clase un conjunto de 10 problemas con la información de que el examen final consistirá en una selección aleatoria de 5 de ellos. Si un estudiante ha resuelto 7 de los problemas, ¿cuál es la probabilidad de que conteste correctamente:\n",
    "\n",
    "a) los 5 problemas?\n",
    "\n",
    "b) al menos 4 de los problemas?"
   ]
  },
  {
   "cell_type": "code",
   "execution_count": null,
   "id": "85a0b0b0",
   "metadata": {},
   "outputs": [],
   "source": []
  }
 ],
 "metadata": {
  "kernelspec": {
   "display_name": "Entorno",
   "language": "python",
   "name": "python3"
  },
  "language_info": {
   "codemirror_mode": {
    "name": "ipython",
    "version": 3
   },
   "file_extension": ".py",
   "mimetype": "text/x-python",
   "name": "python",
   "nbconvert_exporter": "python",
   "pygments_lexer": "ipython3",
   "version": "3.12.8"
  }
 },
 "nbformat": 4,
 "nbformat_minor": 5
}
